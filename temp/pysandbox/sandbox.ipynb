{
 "metadata": {
  "language_info": {
   "codemirror_mode": {
    "name": "ipython",
    "version": 3
   },
   "file_extension": ".py",
   "mimetype": "text/x-python",
   "name": "python",
   "nbconvert_exporter": "python",
   "pygments_lexer": "ipython3",
   "version": "3.9.2"
  },
  "orig_nbformat": 2,
  "kernelspec": {
   "name": "python392jvsc74a57bd0767031c594585a31cc432875dda6ef6ff25dc97438001b7bcd808b78d5c5c480",
   "display_name": "Python 3.9.2 64-bit"
  }
 },
 "nbformat": 4,
 "nbformat_minor": 2,
 "cells": [
  {
   "cell_type": "code",
   "execution_count": 9,
   "metadata": {},
   "outputs": [],
   "source": [
    "import json"
   ]
  },
  {
   "source": [
    "SQLRepository.py"
   ],
   "cell_type": "markdown",
   "metadata": {}
  },
  {
   "cell_type": "code",
   "execution_count": null,
   "metadata": {},
   "outputs": [],
   "source": []
  },
  {
   "source": [
    "entity_creator.py\n"
   ],
   "cell_type": "markdown",
   "metadata": {}
  },
  {
   "cell_type": "code",
   "execution_count": 10,
   "metadata": {},
   "outputs": [],
   "source": [
    "import peewee as DBMapper\n",
    "\n",
    "class BaseModel(DBMapper.Model):\n",
    "    class Meta:\n",
    "        connection: DBMapper.MySQLDatabase\n",
    "\n"
   ]
  },
  {
   "cell_type": "code",
   "execution_count": 11,
   "metadata": {},
   "outputs": [
    {
     "output_type": "stream",
     "name": "stdout",
     "text": [
      "['DoesNotExist', '__class__', '__data__', '__delattr__', '__dict__', '__dir__', '__doc__', '__eq__', '__format__', '__ge__', '__getattribute__', '__gt__', '__hash__', '__init__', '__init_subclass__', '__le__', '__lt__', '__module__', '__ne__', '__new__', '__reduce__', '__reduce_ex__', '__rel__', '__repr__', '__setattr__', '__sizeof__', '__sql__', '__str__', '__subclasshook__', '__weakref__', '_coerce', '_meta', '_normalize_data', '_pk', '_pk_expr', '_populate_unsaved_relations', '_prune_fields', '_schema', 'add_index', 'alias', 'bind', 'bind_ctx', 'bulk_create', 'bulk_update', 'clone', 'coerce', 'copy', 'create', 'create_table', 'delete', 'delete_by_id', 'delete_instance', 'dependencies', 'dirty_fields', 'drop_table', 'filter', 'get', 'get_by_id', 'get_id', 'get_or_create', 'get_or_none', 'id', 'index', 'insert', 'insert_from', 'insert_many', 'is_alias', 'is_dirty', 'noop', 'raw', 'replace', 'replace_many', 'save', 'select', 'set_by_id', 'table_exists', 'truncate_table', 'unwrap', 'update', 'validate_model']\n"
     ]
    }
   ],
   "source": [
    "print(dir(BaseModel._meta))"
   ]
  }
 ]
}